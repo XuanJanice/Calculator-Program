{
  "nbformat": 4,
  "nbformat_minor": 0,
  "metadata": {
    "colab": {
      "provenance": [],
      "authorship_tag": "ABX9TyNpUpkiLfjPgICSmh38AMNH",
      "include_colab_link": true
    },
    "kernelspec": {
      "name": "python3",
      "display_name": "Python 3"
    },
    "language_info": {
      "name": "python"
    }
  },
  "cells": [
    {
      "cell_type": "markdown",
      "metadata": {
        "id": "view-in-github",
        "colab_type": "text"
      },
      "source": [
        "<a href=\"https://colab.research.google.com/github/XuanJanice/Calculator-Program/blob/main/Weekly_Sales_Reporting_Xuan_21238251.ipynb\" target=\"_parent\"><img src=\"https://colab.research.google.com/assets/colab-badge.svg\" alt=\"Open In Colab\"/></a>"
      ]
    },
    {
      "cell_type": "markdown",
      "source": [
        "# Step 0 - Problem Solving Methodology\n",
        "This program is following 6 step methodology\n",
        "\n",
        "1.   State the problem clearly\n",
        "2.   Describe the input and output information\n",
        "3.   Work the problem by hand\n",
        "4.   Develop an algorithm \n",
        "5.   Convert algorithm to python\n",
        "6.   Test solution with a variety of data"
      ],
      "metadata": {
        "id": "p7PenW1J2NR_"
      }
    },
    {
      "cell_type": "markdown",
      "source": [
        "# Step 1 - Problem statement\n",
        "> Collect and analyse the weekly sales activity by computer the average of daily sales and the average of weekly sales. Then plot the average daily sales and average weekly sales figures."
      ],
      "metadata": {
        "id": "RYC-eF_xz9rm"
      }
    },
    {
      "cell_type": "markdown",
      "source": [
        "# Step 2 - Describe inputs and outputs\n",
        "This step describes inputs that are given by the problem outputs that are identified to compute the problem.\n",
        "\n",
        "| Input         | Output                     |\n",
        "|---------------|----------------------------|\n",
        "|employee's name|                            |\n",
        "|daily sales    |weekly sales                |\n",
        "|               |average of daily sales      |\n",
        "|               |average of weekly sales     |\n",
        "|               |plot of avearage daily sales|\n",
        "|               |and average weekly sales    |"
      ],
      "metadata": {
        "id": "kNGpZ6Jg0gfV"
      }
    },
    {
      "cell_type": "markdown",
      "source": [
        "# Step 3 - Work the problem by hand\n",
        "Assume the collected data for one week:\n",
        "![image.png](data:image/png;base64,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)\n",
        "\n",
        "By hand, the average daily sales is:\n",
        "> Daily sales of Monday = (150+100+80+200+120)/5 = 650/5 = 130\n",
        "\n",
        "> Daily sales of Tuesday = (200+250+130+300+155)/5 = 1035/5 = 207\n",
        "\n",
        "> Daily sales of Wednesday = (220+120+108+220+350)/5 = 1018/5 = 203.6\n",
        "\n",
        "> Daily sales of Thurseday = (200+180+250+280+200)/5 = 1110/5 = 222\n",
        "\n",
        "> Daily sales of Friday = (125+150+200+185+150)/5 = 810/5 = 162\n",
        "\n",
        "> Average of daily sales = (130+207+203.6+222+162)/5 = 184.92\n",
        "\n",
        "And the average weekly sales is:\n",
        "\n",
        "> Weekly sales of John = 150+200+220+200+125 = 895\n",
        "\n",
        "> Weekly sales of Alice = 100+250+120+180+150 = 800\n",
        "\n",
        "> Weekly sales of Daisy = 80+130+108+250+200 = 768\n",
        "\n",
        "> Weekly sales of Lily = 200+300+220+280+185 = 1185\n",
        "\n",
        "> Weekly sales of Rpnny = 120+155+350+200+150 = 975\n",
        "\n",
        "> Average of weekly dales = (895+800+768+1185+975)/5 = 924.6"
      ],
      "metadata": {
        "id": "nrYLfOta0qkR"
      }
    },
    {
      "cell_type": "markdown",
      "source": [
        "# Step 4 - Develop an algorithm\n",
        "- Collect employee's name and the sales of each day of the week (Monday to Friday)\n",
        "- Store the data to a file\n",
        "- Calculate the average sales for each day and also store it to file\n",
        "- Plot graphs to display each day sales and the average weekly sales"
      ],
      "metadata": {
        "id": "_whdTTQW008W"
      }
    },
    {
      "cell_type": "markdown",
      "source": [
        "# Step 5 - Convert algorithm to python"
      ],
      "metadata": {
        "id": "KYAbsXHX1JEp"
      }
    },
    {
      "cell_type": "markdown",
      "source": [
        "Collect employee's name and the sales of each day of the week"
      ],
      "metadata": {
        "id": "KGgRPQnOK8XJ"
      }
    },
    {
      "cell_type": "code",
      "source": [
        "# define the function of collect employee's name and their each day sales\n",
        "'''\n",
        "this function is used to collect employee's name and their each day sales\n",
        "data type of name should be string\n",
        "data type of day sales should be float number\n",
        "'''\n",
        "def collectData(name, daily_sales):\n",
        "\n",
        "  employee_name = (input(\"Please enter the employee's name.\")) # get the name of employee\n",
        "  # use try/except to validate inputs\n",
        "  # try to store the input as a float number, if errors happen, notify the correct type of inputs for the user\n",
        "  while True:\n",
        "    try:\n",
        "      Mon_sales = float(input(\"Enter the sales of Monday.\")) # the input of Mon_sales is limited to float number\n",
        "      break # use break to stop the data collection\n",
        "    except:\n",
        "      print(\"Invalid input for the sales of Monday. Please enter a numeric number for the sales of Monday.\") # notify the correct type of the input\n",
        "  \n",
        "  print(\"Sales of Monday is: \", Mon_sales) # dispaly the input - sales of Monday\n",
        "\n",
        "  # use similar codes to get the sales of other four days in one week - Tuesday, Wednesday, Thursday and Friday\n",
        "  while True:\n",
        "    try:\n",
        "      Tue_sales = float(input(\"Enter the sales of Tuesday.\")) # the input of Tue_sales is limited to float number\n",
        "      break # use break to stop the data collection\n",
        "    except:\n",
        "      print(\"Invalid input for the sales of Tuesday. Please enter a numeric number for the sales of Tuesday.\") # notify the correct type of the input\n",
        "  \n",
        "  print(\"Sales of Tuesday is: \", Tue_sales) # dispaly the input - sales of Tuesday\n",
        "\n",
        "  while True:\n",
        "    try:\n",
        "      Wed_sales = float(input(\"Enter the sales of Wednesday.\")) # the input of Wed_sales is limited to float number\n",
        "      break # use break to stop the data collection\n",
        "    except:\n",
        "      print(\"Invalid input for the sales of Wednesday. Please enter a numeric number for the sales of Wednesday.\") # notify the correct type of the input\n",
        "  \n",
        "  print(\"Sales of Wednesday is: \", Wed_sales) # dispaly the input - sales of Wednesday\n",
        "\n",
        "  while True:\n",
        "    try:\n",
        "      Thur_sales = float(input(\"Enter the sales of Thursday.\")) # the input of Thur_sales is limited to float number\n",
        "      break # use break to stop the data collection\n",
        "    except:\n",
        "      print(\"Invalid input for the sales of Thursday. Please enter a numeric number for the sales of Thursday.\") # notify the correct type of the input\n",
        "  \n",
        "  print(\"Sales of Thursday is: \", Thur_sales) # dispaly the input - sales of Thursday\n",
        "\n",
        "  while True:\n",
        "    try:\n",
        "      Fri_sales = float(input(\"Enter the sales of Friday.\")) # the input of Fri_sales is limited to float number\n",
        "      break # use break to stop the data collection\n",
        "    except:\n",
        "      print(\"Invalid input for the sales of Friday. Please enter a numeric number for the sales of Friday.\") # notify the correct type of the input\n",
        "  \n",
        "  print(\"Sales of Friday is: \", Fri_sales) # dispaly the input - sales of Friday\n",
        "\n",
        "  return employee_name, Mon_sales, Tue_sales, Wed_sales, Thur_sales, Fri_sales\n"
      ],
      "metadata": {
        "id": "kAw6MdyO0vci"
      },
      "execution_count": 4,
      "outputs": []
    },
    {
      "cell_type": "code",
      "source": [
        "collectData(\"employee's name\", \"daily sales\")"
      ],
      "metadata": {
        "colab": {
          "base_uri": "https://localhost:8080/"
        },
        "id": "rLELrYzGRNIQ",
        "outputId": "f872c3af-10c1-464b-fd74-76aad32970dd"
      },
      "execution_count": 5,
      "outputs": [
        {
          "output_type": "stream",
          "name": "stdout",
          "text": [
            "Please enter the employee's name.John\n",
            "Enter the sales of Monday.e\n",
            "Invalid input for the sales of Monday. Please enter a numeric number for the sales of Monday.\n",
            "Enter the sales of Monday.150\n",
            "Sales of Monday is:  150.0\n",
            "Enter the sales of Tuesday.d\n",
            "Invalid input for the sales of Monday. Please enter a numeric number for the sales of Tuesday.\n",
            "Enter the sales of Tuesday.200\n",
            "Sales of Tuesday is:  200.0\n",
            "Enter the sales of Wednesday.e\n",
            "Invalid input for the sales of Wednesday. Please enter a numeric number for the sales of Wednesday.\n",
            "Enter the sales of Wednesday.220\n",
            "Sales of Wednesday is:  220.0\n",
            "Enter the sales of Thursday.rr\n",
            "Invalid input for the sales of Thursday. Please enter a numeric number for the sales of Thursday.\n",
            "Enter the sales of Thursday.200\n",
            "Sales of Thursday is:  200.0\n",
            "Enter the sales of Friday.er\n",
            "Invalid input for the sales of Friday. Please enter a numeric number for the sales of Friday.\n",
            "Enter the sales of Friday.125\n",
            "Sales of Friday is:  125.0\n"
          ]
        },
        {
          "output_type": "execute_result",
          "data": {
            "text/plain": [
              "('John', 150.0, 200.0, 220.0, 200.0, 125.0)"
            ]
          },
          "metadata": {},
          "execution_count": 5
        }
      ]
    },
    {
      "cell_type": "markdown",
      "source": [
        "# Step 6 - Test solution with a variety of data"
      ],
      "metadata": {
        "id": "vXYBmwIg1MsX"
      }
    },
    {
      "cell_type": "code",
      "execution_count": null,
      "metadata": {
        "id": "e7ZUNf_3ymP8"
      },
      "outputs": [],
      "source": []
    }
  ]
}