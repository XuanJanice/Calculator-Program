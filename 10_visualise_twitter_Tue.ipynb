{
  "nbformat": 4,
  "nbformat_minor": 0,
  "metadata": {
    "colab": {
      "provenance": [],
      "collapsed_sections": [],
      "include_colab_link": true
    },
    "kernelspec": {
      "name": "python3",
      "display_name": "Python 3"
    },
    "language_info": {
      "name": "python"
    }
  },
  "cells": [
    {
      "cell_type": "markdown",
      "metadata": {
        "id": "view-in-github",
        "colab_type": "text"
      },
      "source": [
        "<a href=\"https://colab.research.google.com/github/XuanJanice/Calculator-Program/blob/main/10_visualise_twitter_Tue.ipynb\" target=\"_parent\"><img src=\"https://colab.research.google.com/assets/colab-badge.svg\" alt=\"Open In Colab\"/></a>"
      ]
    },
    {
      "cell_type": "markdown",
      "source": [
        "Setup"
      ],
      "metadata": {
        "id": "9ayQtF2vyB7q"
      }
    },
    {
      "cell_type": "markdown",
      "source": [
        "# Twitter Tweet Analysis\n",
        "\n",
        "## Workflow\n",
        "1. Install Packages\n",
        "2. Get data\n",
        "3. Visually perform sentiment analysis\n",
        "  * plot number of positive, negative, neutral tweets each day\n",
        "  * plot the proportion of postive, negative, neutral tweets\n",
        "  * create a word cloud from the tweets\n",
        "\n",
        "## 1. Install packges"
      ],
      "metadata": {
        "id": "EWa2fB2i1Iyr"
      }
    },
    {
      "cell_type": "code",
      "execution_count": 1,
      "metadata": {
        "id": "j_e5_pMax8mJ",
        "colab": {
          "base_uri": "https://localhost:8080/"
        },
        "outputId": "96fa205d-695a-4bf1-d55f-88878b8f7b43"
      },
      "outputs": [
        {
          "output_type": "stream",
          "name": "stdout",
          "text": [
            "Required packages installed\n"
          ]
        }
      ],
      "source": [
        "from google.colab import output\n",
        "!pip install snscrape\n",
        "!curl -Ol https://raw.githubusercontent.com/michael-borck/isys2001-worksheets/main/tweets.py\n",
        "!curl -Ol https://raw.githubusercontent.com/michael-borck/isys2001-worksheets/main/stopwords.py\n",
        "!pip install TextBlob\n",
        "!pip install WordCLoud\n",
        "output.clear() # clear output automatically\n",
        "print(\"Required packages installed\") # and the display this sentance to show the process is completed"
      ]
    },
    {
      "cell_type": "markdown",
      "source": [
        "## 2. Get the Data"
      ],
      "metadata": {
        "id": "38nXBOpvznzx"
      }
    },
    {
      "cell_type": "code",
      "source": [
        "from tweets import tweets_to_df\n",
        "help(tweets_to_df)"
      ],
      "metadata": {
        "id": "8Ci1KJKLyOYb",
        "colab": {
          "base_uri": "https://localhost:8080/"
        },
        "outputId": "099f8230-eea2-4954-8d53-7f53a15aabc0"
      },
      "execution_count": 2,
      "outputs": [
        {
          "output_type": "stream",
          "name": "stdout",
          "text": [
            "Help on function tweets_to_df in module tweets:\n",
            "\n",
            "tweets_to_df(what, since='2022-01-01', until='2022-01-31', max_tweets=500)\n",
            "    Performs a simple term based search of twitter tweets to get\n",
            "    the date and message of the tweet.\n",
            "    \n",
            "    Parameters\n",
            "    ----------\n",
            "    what: str\n",
            "      The search term\n",
            "    since: str, YYYY-MM-DD, optional\n",
            "      The date to start search from (default 2022-01-01)\n",
            "    until: str, YYYY-MM-DD, optional\n",
            "      The date to search to (default 2022-01-31)\n",
            "    max_tweets: int, optional\n",
            "      The maximum number of tweets to return (default 500)\n",
            "    \n",
            "    Returns\n",
            "    -------\n",
            "    Pandas Dataframe of date and the tweet message.  The message has\n",
            "    been *cleaned* to remove emojis and non english letters.\n",
            "\n"
          ]
        }
      ]
    },
    {
      "cell_type": "code",
      "source": [
        "# Run tweets_to_df()) method.  Your choice of keyword\n",
        "search_term = input(\"Please enter a term to search for: \")\n",
        "tweets_df = tweets_to_df(search_term)\n",
        "\n",
        "tweets_df\n",
        "\n"
      ],
      "metadata": {
        "id": "pyQoQEEczkVi",
        "colab": {
          "base_uri": "https://localhost:8080/",
          "height": 441
        },
        "outputId": "583c08e7-1bd6-47b5-94f5-a59ff5422c34"
      },
      "execution_count": 12,
      "outputs": [
        {
          "name": "stdout",
          "output_type": "stream",
          "text": [
            "Please enter a term to search for: Curtin\n"
          ]
        },
        {
          "output_type": "execute_result",
          "data": {
            "text/plain": [
              "           Date                                         Clean Text\n",
              "0    2022-01-30   I dont think he would take it yet but Jim Curtin\n",
              "1    2022-01-30  If they were to fire Gregg my pick would be Cu...\n",
              "2    2022-01-30  Meanwell curtin You did tweet the work on the ...\n",
              "3    2022-01-30  mi What are you talking about McConnell s fear...\n",
              "4    2022-01-30  A recent BSRG survey of migrants from South As...\n",
              "..          ...                                                ...\n",
              "495  2022-01-28                ter um cabelo curtin eu fico tchola\n",
              "496  2022-01-28  Am I the only one who immediately hears Hoyt C...\n",
              "497  2022-01-28  Yes homicide is bad but I think you re actuall...\n",
              "498  2022-01-28                          Capital Chemist Curtin 65\n",
              "499  2022-01-28  Curtin University and STEM educator STEMSmart ...\n",
              "\n",
              "[500 rows x 2 columns]"
            ],
            "text/html": [
              "\n",
              "  <div id=\"df-a1857a68-52fc-4e4b-b94a-1864c1605502\">\n",
              "    <div class=\"colab-df-container\">\n",
              "      <div>\n",
              "<style scoped>\n",
              "    .dataframe tbody tr th:only-of-type {\n",
              "        vertical-align: middle;\n",
              "    }\n",
              "\n",
              "    .dataframe tbody tr th {\n",
              "        vertical-align: top;\n",
              "    }\n",
              "\n",
              "    .dataframe thead th {\n",
              "        text-align: right;\n",
              "    }\n",
              "</style>\n",
              "<table border=\"1\" class=\"dataframe\">\n",
              "  <thead>\n",
              "    <tr style=\"text-align: right;\">\n",
              "      <th></th>\n",
              "      <th>Date</th>\n",
              "      <th>Clean Text</th>\n",
              "    </tr>\n",
              "  </thead>\n",
              "  <tbody>\n",
              "    <tr>\n",
              "      <th>0</th>\n",
              "      <td>2022-01-30</td>\n",
              "      <td>I dont think he would take it yet but Jim Curtin</td>\n",
              "    </tr>\n",
              "    <tr>\n",
              "      <th>1</th>\n",
              "      <td>2022-01-30</td>\n",
              "      <td>If they were to fire Gregg my pick would be Cu...</td>\n",
              "    </tr>\n",
              "    <tr>\n",
              "      <th>2</th>\n",
              "      <td>2022-01-30</td>\n",
              "      <td>Meanwell curtin You did tweet the work on the ...</td>\n",
              "    </tr>\n",
              "    <tr>\n",
              "      <th>3</th>\n",
              "      <td>2022-01-30</td>\n",
              "      <td>mi What are you talking about McConnell s fear...</td>\n",
              "    </tr>\n",
              "    <tr>\n",
              "      <th>4</th>\n",
              "      <td>2022-01-30</td>\n",
              "      <td>A recent BSRG survey of migrants from South As...</td>\n",
              "    </tr>\n",
              "    <tr>\n",
              "      <th>...</th>\n",
              "      <td>...</td>\n",
              "      <td>...</td>\n",
              "    </tr>\n",
              "    <tr>\n",
              "      <th>495</th>\n",
              "      <td>2022-01-28</td>\n",
              "      <td>ter um cabelo curtin eu fico tchola</td>\n",
              "    </tr>\n",
              "    <tr>\n",
              "      <th>496</th>\n",
              "      <td>2022-01-28</td>\n",
              "      <td>Am I the only one who immediately hears Hoyt C...</td>\n",
              "    </tr>\n",
              "    <tr>\n",
              "      <th>497</th>\n",
              "      <td>2022-01-28</td>\n",
              "      <td>Yes homicide is bad but I think you re actuall...</td>\n",
              "    </tr>\n",
              "    <tr>\n",
              "      <th>498</th>\n",
              "      <td>2022-01-28</td>\n",
              "      <td>Capital Chemist Curtin 65</td>\n",
              "    </tr>\n",
              "    <tr>\n",
              "      <th>499</th>\n",
              "      <td>2022-01-28</td>\n",
              "      <td>Curtin University and STEM educator STEMSmart ...</td>\n",
              "    </tr>\n",
              "  </tbody>\n",
              "</table>\n",
              "<p>500 rows × 2 columns</p>\n",
              "</div>\n",
              "      <button class=\"colab-df-convert\" onclick=\"convertToInteractive('df-a1857a68-52fc-4e4b-b94a-1864c1605502')\"\n",
              "              title=\"Convert this dataframe to an interactive table.\"\n",
              "              style=\"display:none;\">\n",
              "        \n",
              "  <svg xmlns=\"http://www.w3.org/2000/svg\" height=\"24px\"viewBox=\"0 0 24 24\"\n",
              "       width=\"24px\">\n",
              "    <path d=\"M0 0h24v24H0V0z\" fill=\"none\"/>\n",
              "    <path d=\"M18.56 5.44l.94 2.06.94-2.06 2.06-.94-2.06-.94-.94-2.06-.94 2.06-2.06.94zm-11 1L8.5 8.5l.94-2.06 2.06-.94-2.06-.94L8.5 2.5l-.94 2.06-2.06.94zm10 10l.94 2.06.94-2.06 2.06-.94-2.06-.94-.94-2.06-.94 2.06-2.06.94z\"/><path d=\"M17.41 7.96l-1.37-1.37c-.4-.4-.92-.59-1.43-.59-.52 0-1.04.2-1.43.59L10.3 9.45l-7.72 7.72c-.78.78-.78 2.05 0 2.83L4 21.41c.39.39.9.59 1.41.59.51 0 1.02-.2 1.41-.59l7.78-7.78 2.81-2.81c.8-.78.8-2.07 0-2.86zM5.41 20L4 18.59l7.72-7.72 1.47 1.35L5.41 20z\"/>\n",
              "  </svg>\n",
              "      </button>\n",
              "      \n",
              "  <style>\n",
              "    .colab-df-container {\n",
              "      display:flex;\n",
              "      flex-wrap:wrap;\n",
              "      gap: 12px;\n",
              "    }\n",
              "\n",
              "    .colab-df-convert {\n",
              "      background-color: #E8F0FE;\n",
              "      border: none;\n",
              "      border-radius: 50%;\n",
              "      cursor: pointer;\n",
              "      display: none;\n",
              "      fill: #1967D2;\n",
              "      height: 32px;\n",
              "      padding: 0 0 0 0;\n",
              "      width: 32px;\n",
              "    }\n",
              "\n",
              "    .colab-df-convert:hover {\n",
              "      background-color: #E2EBFA;\n",
              "      box-shadow: 0px 1px 2px rgba(60, 64, 67, 0.3), 0px 1px 3px 1px rgba(60, 64, 67, 0.15);\n",
              "      fill: #174EA6;\n",
              "    }\n",
              "\n",
              "    [theme=dark] .colab-df-convert {\n",
              "      background-color: #3B4455;\n",
              "      fill: #D2E3FC;\n",
              "    }\n",
              "\n",
              "    [theme=dark] .colab-df-convert:hover {\n",
              "      background-color: #434B5C;\n",
              "      box-shadow: 0px 1px 3px 1px rgba(0, 0, 0, 0.15);\n",
              "      filter: drop-shadow(0px 1px 2px rgba(0, 0, 0, 0.3));\n",
              "      fill: #FFFFFF;\n",
              "    }\n",
              "  </style>\n",
              "\n",
              "      <script>\n",
              "        const buttonEl =\n",
              "          document.querySelector('#df-a1857a68-52fc-4e4b-b94a-1864c1605502 button.colab-df-convert');\n",
              "        buttonEl.style.display =\n",
              "          google.colab.kernel.accessAllowed ? 'block' : 'none';\n",
              "\n",
              "        async function convertToInteractive(key) {\n",
              "          const element = document.querySelector('#df-a1857a68-52fc-4e4b-b94a-1864c1605502');\n",
              "          const dataTable =\n",
              "            await google.colab.kernel.invokeFunction('convertToInteractive',\n",
              "                                                     [key], {});\n",
              "          if (!dataTable) return;\n",
              "\n",
              "          const docLinkHtml = 'Like what you see? Visit the ' +\n",
              "            '<a target=\"_blank\" href=https://colab.research.google.com/notebooks/data_table.ipynb>data table notebook</a>'\n",
              "            + ' to learn more about interactive tables.';\n",
              "          element.innerHTML = '';\n",
              "          dataTable['output_type'] = 'display_data';\n",
              "          await google.colab.output.renderOutput(dataTable, element);\n",
              "          const docLink = document.createElement('div');\n",
              "          docLink.innerHTML = docLinkHtml;\n",
              "          element.appendChild(docLink);\n",
              "        }\n",
              "      </script>\n",
              "    </div>\n",
              "  </div>\n",
              "  "
            ]
          },
          "metadata": {},
          "execution_count": 12
        }
      ]
    },
    {
      "cell_type": "markdown",
      "source": [
        "## 3. Perform Sentiment Analysis\n",
        "The sentiment function of textblob returns two properties, polarity, and subjectivity.\n",
        "\n",
        "See: https://textblob.readthedocs.io/en/dev/index.html\n",
        "\n",
        "https://twitter-data-analysis.blogspot.com/2020/08/twitter-data-analysis-part-3-sentiment.html\n",
        "\n",
        "https://monkeylearn.com/blog/sentiment-analysis-examples/\n",
        "\n",
        "\n",
        "\n",
        "### Polarity\n",
        "Polarity is float value which lies in the range of [-1,1] where 1 means positive statement and -1 means a negative statement. \n",
        "\n",
        "### Subjectivity\n",
        "* Subjective sentences generally refer to personal opinion, emotion or judgment.\n",
        "* Objective refers to factual information. \n",
        "* Subjectivity is a float value which lies in the range of [0,1].\n",
        "* Subjectivity lies between [0.0,1.0].\n",
        " * 0.0 is very objective and 1.0 is very subjective.\n",
        "\n",
        "\n"
      ],
      "metadata": {
        "id": "ytj7LAbe1bXc"
      }
    },
    {
      "cell_type": "code",
      "source": [
        "from textblob import TextBlob\n",
        "\n",
        "\n",
        "# Creating a funtion to get the subjectivity.\n",
        "def getSubjectivity(text):\n",
        "    return TextBlob(str(text)).sentiment.subjectivity\n",
        "\n",
        "# Creating a function to get the polarity. \n",
        "def getPolarity(text):\n",
        "    return TextBlob(str(text)).sentiment.polarity\n",
        "\n",
        "# Calculate sentiment\n",
        "# Creating two columns to store subjectivity and polarity\n",
        "tweets_df['Subjectivity'] = tweets_df['Clean Text'].apply(getSubjectivity)\n",
        "tweets_df['Polarity'] = tweets_df['Clean Text'].apply(getPolarity)\n",
        "\n",
        "tweets_df # .head() only shows five"
      ],
      "metadata": {
        "id": "BPHPewQs0LWY",
        "colab": {
          "base_uri": "https://localhost:8080/",
          "height": 424
        },
        "outputId": "4297ddb4-60a6-43de-fdf5-e3b58d1f68cd"
      },
      "execution_count": 13,
      "outputs": [
        {
          "output_type": "execute_result",
          "data": {
            "text/plain": [
              "           Date                                         Clean Text  \\\n",
              "0    2022-01-30   I dont think he would take it yet but Jim Curtin   \n",
              "1    2022-01-30  If they were to fire Gregg my pick would be Cu...   \n",
              "2    2022-01-30  Meanwell curtin You did tweet the work on the ...   \n",
              "3    2022-01-30  mi What are you talking about McConnell s fear...   \n",
              "4    2022-01-30  A recent BSRG survey of migrants from South As...   \n",
              "..          ...                                                ...   \n",
              "495  2022-01-28                ter um cabelo curtin eu fico tchola   \n",
              "496  2022-01-28  Am I the only one who immediately hears Hoyt C...   \n",
              "497  2022-01-28  Yes homicide is bad but I think you re actuall...   \n",
              "498  2022-01-28                          Capital Chemist Curtin 65   \n",
              "499  2022-01-28  Curtin University and STEM educator STEMSmart ...   \n",
              "\n",
              "     Subjectivity  Polarity  \n",
              "0        0.000000  0.000000  \n",
              "1        0.443750  0.287500  \n",
              "2        0.000000  0.000000  \n",
              "3        0.900000 -0.600000  \n",
              "4        0.320833  0.004167  \n",
              "..            ...       ...  \n",
              "495      0.000000  0.000000  \n",
              "496      1.000000  0.000000  \n",
              "497      0.321230 -0.119048  \n",
              "498      0.000000  0.000000  \n",
              "499      0.404167  0.183333  \n",
              "\n",
              "[500 rows x 4 columns]"
            ],
            "text/html": [
              "\n",
              "  <div id=\"df-14231bee-60ea-40e0-94e4-94e94b411bb2\">\n",
              "    <div class=\"colab-df-container\">\n",
              "      <div>\n",
              "<style scoped>\n",
              "    .dataframe tbody tr th:only-of-type {\n",
              "        vertical-align: middle;\n",
              "    }\n",
              "\n",
              "    .dataframe tbody tr th {\n",
              "        vertical-align: top;\n",
              "    }\n",
              "\n",
              "    .dataframe thead th {\n",
              "        text-align: right;\n",
              "    }\n",
              "</style>\n",
              "<table border=\"1\" class=\"dataframe\">\n",
              "  <thead>\n",
              "    <tr style=\"text-align: right;\">\n",
              "      <th></th>\n",
              "      <th>Date</th>\n",
              "      <th>Clean Text</th>\n",
              "      <th>Subjectivity</th>\n",
              "      <th>Polarity</th>\n",
              "    </tr>\n",
              "  </thead>\n",
              "  <tbody>\n",
              "    <tr>\n",
              "      <th>0</th>\n",
              "      <td>2022-01-30</td>\n",
              "      <td>I dont think he would take it yet but Jim Curtin</td>\n",
              "      <td>0.000000</td>\n",
              "      <td>0.000000</td>\n",
              "    </tr>\n",
              "    <tr>\n",
              "      <th>1</th>\n",
              "      <td>2022-01-30</td>\n",
              "      <td>If they were to fire Gregg my pick would be Cu...</td>\n",
              "      <td>0.443750</td>\n",
              "      <td>0.287500</td>\n",
              "    </tr>\n",
              "    <tr>\n",
              "      <th>2</th>\n",
              "      <td>2022-01-30</td>\n",
              "      <td>Meanwell curtin You did tweet the work on the ...</td>\n",
              "      <td>0.000000</td>\n",
              "      <td>0.000000</td>\n",
              "    </tr>\n",
              "    <tr>\n",
              "      <th>3</th>\n",
              "      <td>2022-01-30</td>\n",
              "      <td>mi What are you talking about McConnell s fear...</td>\n",
              "      <td>0.900000</td>\n",
              "      <td>-0.600000</td>\n",
              "    </tr>\n",
              "    <tr>\n",
              "      <th>4</th>\n",
              "      <td>2022-01-30</td>\n",
              "      <td>A recent BSRG survey of migrants from South As...</td>\n",
              "      <td>0.320833</td>\n",
              "      <td>0.004167</td>\n",
              "    </tr>\n",
              "    <tr>\n",
              "      <th>...</th>\n",
              "      <td>...</td>\n",
              "      <td>...</td>\n",
              "      <td>...</td>\n",
              "      <td>...</td>\n",
              "    </tr>\n",
              "    <tr>\n",
              "      <th>495</th>\n",
              "      <td>2022-01-28</td>\n",
              "      <td>ter um cabelo curtin eu fico tchola</td>\n",
              "      <td>0.000000</td>\n",
              "      <td>0.000000</td>\n",
              "    </tr>\n",
              "    <tr>\n",
              "      <th>496</th>\n",
              "      <td>2022-01-28</td>\n",
              "      <td>Am I the only one who immediately hears Hoyt C...</td>\n",
              "      <td>1.000000</td>\n",
              "      <td>0.000000</td>\n",
              "    </tr>\n",
              "    <tr>\n",
              "      <th>497</th>\n",
              "      <td>2022-01-28</td>\n",
              "      <td>Yes homicide is bad but I think you re actuall...</td>\n",
              "      <td>0.321230</td>\n",
              "      <td>-0.119048</td>\n",
              "    </tr>\n",
              "    <tr>\n",
              "      <th>498</th>\n",
              "      <td>2022-01-28</td>\n",
              "      <td>Capital Chemist Curtin 65</td>\n",
              "      <td>0.000000</td>\n",
              "      <td>0.000000</td>\n",
              "    </tr>\n",
              "    <tr>\n",
              "      <th>499</th>\n",
              "      <td>2022-01-28</td>\n",
              "      <td>Curtin University and STEM educator STEMSmart ...</td>\n",
              "      <td>0.404167</td>\n",
              "      <td>0.183333</td>\n",
              "    </tr>\n",
              "  </tbody>\n",
              "</table>\n",
              "<p>500 rows × 4 columns</p>\n",
              "</div>\n",
              "      <button class=\"colab-df-convert\" onclick=\"convertToInteractive('df-14231bee-60ea-40e0-94e4-94e94b411bb2')\"\n",
              "              title=\"Convert this dataframe to an interactive table.\"\n",
              "              style=\"display:none;\">\n",
              "        \n",
              "  <svg xmlns=\"http://www.w3.org/2000/svg\" height=\"24px\"viewBox=\"0 0 24 24\"\n",
              "       width=\"24px\">\n",
              "    <path d=\"M0 0h24v24H0V0z\" fill=\"none\"/>\n",
              "    <path d=\"M18.56 5.44l.94 2.06.94-2.06 2.06-.94-2.06-.94-.94-2.06-.94 2.06-2.06.94zm-11 1L8.5 8.5l.94-2.06 2.06-.94-2.06-.94L8.5 2.5l-.94 2.06-2.06.94zm10 10l.94 2.06.94-2.06 2.06-.94-2.06-.94-.94-2.06-.94 2.06-2.06.94z\"/><path d=\"M17.41 7.96l-1.37-1.37c-.4-.4-.92-.59-1.43-.59-.52 0-1.04.2-1.43.59L10.3 9.45l-7.72 7.72c-.78.78-.78 2.05 0 2.83L4 21.41c.39.39.9.59 1.41.59.51 0 1.02-.2 1.41-.59l7.78-7.78 2.81-2.81c.8-.78.8-2.07 0-2.86zM5.41 20L4 18.59l7.72-7.72 1.47 1.35L5.41 20z\"/>\n",
              "  </svg>\n",
              "      </button>\n",
              "      \n",
              "  <style>\n",
              "    .colab-df-container {\n",
              "      display:flex;\n",
              "      flex-wrap:wrap;\n",
              "      gap: 12px;\n",
              "    }\n",
              "\n",
              "    .colab-df-convert {\n",
              "      background-color: #E8F0FE;\n",
              "      border: none;\n",
              "      border-radius: 50%;\n",
              "      cursor: pointer;\n",
              "      display: none;\n",
              "      fill: #1967D2;\n",
              "      height: 32px;\n",
              "      padding: 0 0 0 0;\n",
              "      width: 32px;\n",
              "    }\n",
              "\n",
              "    .colab-df-convert:hover {\n",
              "      background-color: #E2EBFA;\n",
              "      box-shadow: 0px 1px 2px rgba(60, 64, 67, 0.3), 0px 1px 3px 1px rgba(60, 64, 67, 0.15);\n",
              "      fill: #174EA6;\n",
              "    }\n",
              "\n",
              "    [theme=dark] .colab-df-convert {\n",
              "      background-color: #3B4455;\n",
              "      fill: #D2E3FC;\n",
              "    }\n",
              "\n",
              "    [theme=dark] .colab-df-convert:hover {\n",
              "      background-color: #434B5C;\n",
              "      box-shadow: 0px 1px 3px 1px rgba(0, 0, 0, 0.15);\n",
              "      filter: drop-shadow(0px 1px 2px rgba(0, 0, 0, 0.3));\n",
              "      fill: #FFFFFF;\n",
              "    }\n",
              "  </style>\n",
              "\n",
              "      <script>\n",
              "        const buttonEl =\n",
              "          document.querySelector('#df-14231bee-60ea-40e0-94e4-94e94b411bb2 button.colab-df-convert');\n",
              "        buttonEl.style.display =\n",
              "          google.colab.kernel.accessAllowed ? 'block' : 'none';\n",
              "\n",
              "        async function convertToInteractive(key) {\n",
              "          const element = document.querySelector('#df-14231bee-60ea-40e0-94e4-94e94b411bb2');\n",
              "          const dataTable =\n",
              "            await google.colab.kernel.invokeFunction('convertToInteractive',\n",
              "                                                     [key], {});\n",
              "          if (!dataTable) return;\n",
              "\n",
              "          const docLinkHtml = 'Like what you see? Visit the ' +\n",
              "            '<a target=\"_blank\" href=https://colab.research.google.com/notebooks/data_table.ipynb>data table notebook</a>'\n",
              "            + ' to learn more about interactive tables.';\n",
              "          element.innerHTML = '';\n",
              "          dataTable['output_type'] = 'display_data';\n",
              "          await google.colab.output.renderOutput(dataTable, element);\n",
              "          const docLink = document.createElement('div');\n",
              "          docLink.innerHTML = docLinkHtml;\n",
              "          element.appendChild(docLink);\n",
              "        }\n",
              "      </script>\n",
              "    </div>\n",
              "  </div>\n",
              "  "
            ]
          },
          "metadata": {},
          "execution_count": 13
        }
      ]
    },
    {
      "cell_type": "markdown",
      "source": [
        "\n",
        "### Plotting a graph with Subjectivity against Polarity\n",
        "\n",
        "\n"
      ],
      "metadata": {
        "id": "OsCqLvpWeQXU"
      }
    },
    {
      "cell_type": "code",
      "source": [
        "import matplotlib.pyplot as plt\n",
        "# Plotting a graph with Subjectivity against Polarity\n",
        "plt.figure(figsize=(8,6))\n",
        "\n",
        "for i in range(1, tweets_df.shape[0]):\n",
        "  plt.scatter(tweets_df[\"Polarity\"][i], tweets_df[\"Subjectivity\"][i], color='Blue')\n",
        "  \n",
        "# Labelling axis's and title\n",
        "plt.title('Twitter Sentiment Analysis')\n",
        "plt.xlabel('Polarity')\n",
        "plt.ylabel('Subjectivity')\n",
        "plt.show()"
      ],
      "metadata": {
        "id": "Rzk2ECCvgx9e",
        "colab": {
          "base_uri": "https://localhost:8080/",
          "height": 404
        },
        "outputId": "6e40ee1f-5d14-44f0-f438-47ea82bc3ef4"
      },
      "execution_count": 14,
      "outputs": [
        {
          "output_type": "display_data",
          "data": {
            "text/plain": [
              "<Figure size 576x432 with 1 Axes>"
            ],
            "image/png": "[encoded data removed]"
          },
          "metadata": {
            "needs_background": "light"
          }
        }
      ]
    },
    {
      "cell_type": "code",
      "source": [
        "# Do a box plot of columns Subjectivity and Polarity\n",
        "tweets_df.boxplot(column=['Subjectivity', 'Polarity'], grid=False, figsize=(12, 8))"
      ],
      "metadata": {
        "id": "xL95PK6A0mCe",
        "colab": {
          "base_uri": "https://localhost:8080/",
          "height": 500
        },
        "outputId": "4e14afa8-b5ca-40a9-dfd3-5a8e66c0d041"
      },
      "execution_count": 15,
      "outputs": [
        {
          "output_type": "execute_result",
          "data": {
            "text/plain": [
              "<matplotlib.axes._subplots.AxesSubplot at 0x7f886e21dfd0>"
            ]
          },
          "metadata": {},
          "execution_count": 15
        },
        {
          "output_type": "display_data",
          "data": {
            "text/plain": [
              "<Figure size 864x576 with 1 Axes>"
            ],
            "image/png": "[encoded data removed]"
          },
          "metadata": {
            "needs_background": "light"
          }
        }
      ]
    },
    {
      "cell_type": "markdown",
      "source": [
        "# Sentiment over time.\n",
        "\n",
        "From the documentation, the values of polarity can be interpreted as sentiment.  So we can *calculate* the sentiment of each tweet as either positive, negative or neutral.\n",
        "\n",
        "> There are more precise ways, keeping it simple for this exercise.\n",
        "\n",
        "It could be interesting to plot these over time.  So, each day there is a number of tweets, what proportions are positive, negative or neutral.\n",
        "\n",
        "First let us add a sentiment column\n"
      ],
      "metadata": {
        "id": "oEbWCyrZ5ly9"
      }
    },
    {
      "cell_type": "code",
      "source": [
        "# Deciding whether the tweet is positive, neutral or negative\n",
        "def sentiment(polarity):\n",
        "  if polarity > 0:\n",
        "      return 'Positive'\n",
        "  elif polarity == 0:\n",
        "      return 'Neutral'\n",
        "  else:\n",
        "      return 'Negative'"
      ],
      "metadata": {
        "id": "ENP5Hyrt4YYq"
      },
      "execution_count": 32,
      "outputs": []
    },
    {
      "cell_type": "code",
      "source": [
        "tweets_df.head()"
      ],
      "metadata": {
        "id": "6dmIzLa0g_tM",
        "colab": {
          "base_uri": "https://localhost:8080/",
          "height": 206
        },
        "outputId": "49def0a3-7609-4cad-ffc8-b1df552968bf"
      },
      "execution_count": 33,
      "outputs": [
        {
          "output_type": "execute_result",
          "data": {
            "text/plain": [
              "         Date                                         Clean Text  \\\n",
              "0  2022-01-30   I dont think he would take it yet but Jim Curtin   \n",
              "1  2022-01-30  If they were to fire Gregg my pick would be Cu...   \n",
              "2  2022-01-30  Meanwell curtin You did tweet the work on the ...   \n",
              "3  2022-01-30  mi What are you talking about McConnell s fear...   \n",
              "4  2022-01-30  A recent BSRG survey of migrants from South As...   \n",
              "\n",
              "   Subjectivity  Polarity Sentiment  \n",
              "0      0.000000  0.000000   Neutral  \n",
              "1      0.443750  0.287500  Positive  \n",
              "2      0.000000  0.000000   Neutral  \n",
              "3      0.900000 -0.600000  Negative  \n",
              "4      0.320833  0.004167  Positive  "
            ],
            "text/html": [
              "\n",
              "  <div id=\"df-c8c9a88c-0af8-4ef3-8b8d-a0920848bf6f\">\n",
              "    <div class=\"colab-df-container\">\n",
              "      <div>\n",
              "<style scoped>\n",
              "    .dataframe tbody tr th:only-of-type {\n",
              "        vertical-align: middle;\n",
              "    }\n",
              "\n",
              "    .dataframe tbody tr th {\n",
              "        vertical-align: top;\n",
              "    }\n",
              "\n",
              "    .dataframe thead th {\n",
              "        text-align: right;\n",
              "    }\n",
              "</style>\n",
              "<table border=\"1\" class=\"dataframe\">\n",
              "  <thead>\n",
              "    <tr style=\"text-align: right;\">\n",
              "      <th></th>\n",
              "      <th>Date</th>\n",
              "      <th>Clean Text</th>\n",
              "      <th>Subjectivity</th>\n",
              "      <th>Polarity</th>\n",
              "      <th>Sentiment</th>\n",
              "    </tr>\n",
              "  </thead>\n",
              "  <tbody>\n",
              "    <tr>\n",
              "      <th>0</th>\n",
              "      <td>2022-01-30</td>\n",
              "      <td>I dont think he would take it yet but Jim Curtin</td>\n",
              "      <td>0.000000</td>\n",
              "      <td>0.000000</td>\n",
              "      <td>Neutral</td>\n",
              "    </tr>\n",
              "    <tr>\n",
              "      <th>1</th>\n",
              "      <td>2022-01-30</td>\n",
              "      <td>If they were to fire Gregg my pick would be Cu...</td>\n",
              "      <td>0.443750</td>\n",
              "      <td>0.287500</td>\n",
              "      <td>Positive</td>\n",
              "    </tr>\n",
              "    <tr>\n",
              "      <th>2</th>\n",
              "      <td>2022-01-30</td>\n",
              "      <td>Meanwell curtin You did tweet the work on the ...</td>\n",
              "      <td>0.000000</td>\n",
              "      <td>0.000000</td>\n",
              "      <td>Neutral</td>\n",
              "    </tr>\n",
              "    <tr>\n",
              "      <th>3</th>\n",
              "      <td>2022-01-30</td>\n",
              "      <td>mi What are you talking about McConnell s fear...</td>\n",
              "      <td>0.900000</td>\n",
              "      <td>-0.600000</td>\n",
              "      <td>Negative</td>\n",
              "    </tr>\n",
              "    <tr>\n",
              "      <th>4</th>\n",
              "      <td>2022-01-30</td>\n",
              "      <td>A recent BSRG survey of migrants from South As...</td>\n",
              "      <td>0.320833</td>\n",
              "      <td>0.004167</td>\n",
              "      <td>Positive</td>\n",
              "    </tr>\n",
              "  </tbody>\n",
              "</table>\n",
              "</div>\n",
              "      <button class=\"colab-df-convert\" onclick=\"convertToInteractive('df-c8c9a88c-0af8-4ef3-8b8d-a0920848bf6f')\"\n",
              "              title=\"Convert this dataframe to an interactive table.\"\n",
              "              style=\"display:none;\">\n",
              "        \n",
              "  <svg xmlns=\"http://www.w3.org/2000/svg\" height=\"24px\"viewBox=\"0 0 24 24\"\n",
              "       width=\"24px\">\n",
              "    <path d=\"M0 0h24v24H0V0z\" fill=\"none\"/>\n",
              "    <path d=\"M18.56 5.44l.94 2.06.94-2.06 2.06-.94-2.06-.94-.94-2.06-.94 2.06-2.06.94zm-11 1L8.5 8.5l.94-2.06 2.06-.94-2.06-.94L8.5 2.5l-.94 2.06-2.06.94zm10 10l.94 2.06.94-2.06 2.06-.94-2.06-.94-.94-2.06-.94 2.06-2.06.94z\"/><path d=\"M17.41 7.96l-1.37-1.37c-.4-.4-.92-.59-1.43-.59-.52 0-1.04.2-1.43.59L10.3 9.45l-7.72 7.72c-.78.78-.78 2.05 0 2.83L4 21.41c.39.39.9.59 1.41.59.51 0 1.02-.2 1.41-.59l7.78-7.78 2.81-2.81c.8-.78.8-2.07 0-2.86zM5.41 20L4 18.59l7.72-7.72 1.47 1.35L5.41 20z\"/>\n",
              "  </svg>\n",
              "      </button>\n",
              "      \n",
              "  <style>\n",
              "    .colab-df-container {\n",
              "      display:flex;\n",
              "      flex-wrap:wrap;\n",
              "      gap: 12px;\n",
              "    }\n",
              "\n",
              "    .colab-df-convert {\n",
              "      background-color: #E8F0FE;\n",
              "      border: none;\n",
              "      border-radius: 50%;\n",
              "      cursor: pointer;\n",
              "      display: none;\n",
              "      fill: #1967D2;\n",
              "      height: 32px;\n",
              "      padding: 0 0 0 0;\n",
              "      width: 32px;\n",
              "    }\n",
              "\n",
              "    .colab-df-convert:hover {\n",
              "      background-color: #E2EBFA;\n",
              "      box-shadow: 0px 1px 2px rgba(60, 64, 67, 0.3), 0px 1px 3px 1px rgba(60, 64, 67, 0.15);\n",
              "      fill: #174EA6;\n",
              "    }\n",
              "\n",
              "    [theme=dark] .colab-df-convert {\n",
              "      background-color: #3B4455;\n",
              "      fill: #D2E3FC;\n",
              "    }\n",
              "\n",
              "    [theme=dark] .colab-df-convert:hover {\n",
              "      background-color: #434B5C;\n",
              "      box-shadow: 0px 1px 3px 1px rgba(0, 0, 0, 0.15);\n",
              "      filter: drop-shadow(0px 1px 2px rgba(0, 0, 0, 0.3));\n",
              "      fill: #FFFFFF;\n",
              "    }\n",
              "  </style>\n",
              "\n",
              "      <script>\n",
              "        const buttonEl =\n",
              "          document.querySelector('#df-c8c9a88c-0af8-4ef3-8b8d-a0920848bf6f button.colab-df-convert');\n",
              "        buttonEl.style.display =\n",
              "          google.colab.kernel.accessAllowed ? 'block' : 'none';\n",
              "\n",
              "        async function convertToInteractive(key) {\n",
              "          const element = document.querySelector('#df-c8c9a88c-0af8-4ef3-8b8d-a0920848bf6f');\n",
              "          const dataTable =\n",
              "            await google.colab.kernel.invokeFunction('convertToInteractive',\n",
              "                                                     [key], {});\n",
              "          if (!dataTable) return;\n",
              "\n",
              "          const docLinkHtml = 'Like what you see? Visit the ' +\n",
              "            '<a target=\"_blank\" href=https://colab.research.google.com/notebooks/data_table.ipynb>data table notebook</a>'\n",
              "            + ' to learn more about interactive tables.';\n",
              "          element.innerHTML = '';\n",
              "          dataTable['output_type'] = 'display_data';\n",
              "          await google.colab.output.renderOutput(dataTable, element);\n",
              "          const docLink = document.createElement('div');\n",
              "          docLink.innerHTML = docLinkHtml;\n",
              "          element.appendChild(docLink);\n",
              "        }\n",
              "      </script>\n",
              "    </div>\n",
              "  </div>\n",
              "  "
            ]
          },
          "metadata": {},
          "execution_count": 33
        }
      ]
    },
    {
      "cell_type": "code",
      "source": [
        "# Add sentiment column\n",
        "tweets_df['Sentiment'] = tweets_df['Polarity'].apply(sentiment)"
      ],
      "metadata": {
        "id": "rmv5RBkp467P"
      },
      "execution_count": 34,
      "outputs": []
    },
    {
      "cell_type": "code",
      "source": [
        "# Lets get just the positive tweets\n",
        "pos = tweets_df[tweets_df['Sentiment'] == 'Positive']\n",
        "pos"
      ],
      "metadata": {
        "id": "SK62Dy3L6u3G",
        "colab": {
          "base_uri": "https://localhost:8080/",
          "height": 424
        },
        "outputId": "cba8c813-ddb8-4c72-a2d5-f68aa2a68137"
      },
      "execution_count": 35,
      "outputs": [
        {
          "output_type": "execute_result",
          "data": {
            "text/plain": [
              "           Date                                         Clean Text  \\\n",
              "1    2022-01-30  If they were to fire Gregg my pick would be Cu...   \n",
              "4    2022-01-30  A recent BSRG survey of migrants from South As...   \n",
              "6    2022-01-30  curtin tbf I rarely tweet at all so I don t th...   \n",
              "7    2022-01-30  Excellent article Wouldn t it be a wonderful a...   \n",
              "9    2022-01-30                       Live look at Jackson Mahomes   \n",
              "..          ...                                                ...   \n",
              "490  2022-01-28                 The Witty Anxiety of Raquel Curtin   \n",
              "491  2022-01-28  91 of abortions are performed around 10 13 wee...   \n",
              "492  2022-01-28            Well Done Curtin University W A Amazing   \n",
              "493  2022-01-28  I don t have free will but I am responsible Yo...   \n",
              "499  2022-01-28  Curtin University and STEM educator STEMSmart ...   \n",
              "\n",
              "     Subjectivity  Polarity Sentiment  \n",
              "1        0.443750  0.287500  Positive  \n",
              "4        0.320833  0.004167  Positive  \n",
              "6        0.450000  0.150000  Positive  \n",
              "7        0.637037  0.261111  Positive  \n",
              "9        0.500000  0.136364  Positive  \n",
              "..            ...       ...       ...  \n",
              "490      1.000000  0.500000  Positive  \n",
              "491      0.362500  0.137500  Positive  \n",
              "492      0.900000  0.600000  Positive  \n",
              "493      0.583333  0.183333  Positive  \n",
              "499      0.404167  0.183333  Positive  \n",
              "\n",
              "[227 rows x 5 columns]"
            ],
            "text/html": [
              "\n",
              "  <div id=\"df-3ccd7647-afeb-4a61-a960-0685a796f913\">\n",
              "    <div class=\"colab-df-container\">\n",
              "      <div>\n",
              "<style scoped>\n",
              "    .dataframe tbody tr th:only-of-type {\n",
              "        vertical-align: middle;\n",
              "    }\n",
              "\n",
              "    .dataframe tbody tr th {\n",
              "        vertical-align: top;\n",
              "    }\n",
              "\n",
              "    .dataframe thead th {\n",
              "        text-align: right;\n",
              "    }\n",
              "</style>\n",
              "<table border=\"1\" class=\"dataframe\">\n",
              "  <thead>\n",
              "    <tr style=\"text-align: right;\">\n",
              "      <th></th>\n",
              "      <th>Date</th>\n",
              "      <th>Clean Text</th>\n",
              "      <th>Subjectivity</th>\n",
              "      <th>Polarity</th>\n",
              "      <th>Sentiment</th>\n",
              "    </tr>\n",
              "  </thead>\n",
              "  <tbody>\n",
              "    <tr>\n",
              "      <th>1</th>\n",
              "      <td>2022-01-30</td>\n",
              "      <td>If they were to fire Gregg my pick would be Cu...</td>\n",
              "      <td>0.443750</td>\n",
              "      <td>0.287500</td>\n",
              "      <td>Positive</td>\n",
              "    </tr>\n",
              "    <tr>\n",
              "      <th>4</th>\n",
              "      <td>2022-01-30</td>\n",
              "      <td>A recent BSRG survey of migrants from South As...</td>\n",
              "      <td>0.320833</td>\n",
              "      <td>0.004167</td>\n",
              "      <td>Positive</td>\n",
              "    </tr>\n",
              "    <tr>\n",
              "      <th>6</th>\n",
              "      <td>2022-01-30</td>\n",
              "      <td>curtin tbf I rarely tweet at all so I don t th...</td>\n",
              "      <td>0.450000</td>\n",
              "      <td>0.150000</td>\n",
              "      <td>Positive</td>\n",
              "    </tr>\n",
              "    <tr>\n",
              "      <th>7</th>\n",
              "      <td>2022-01-30</td>\n",
              "      <td>Excellent article Wouldn t it be a wonderful a...</td>\n",
              "      <td>0.637037</td>\n",
              "      <td>0.261111</td>\n",
              "      <td>Positive</td>\n",
              "    </tr>\n",
              "    <tr>\n",
              "      <th>9</th>\n",
              "      <td>2022-01-30</td>\n",
              "      <td>Live look at Jackson Mahomes</td>\n",
              "      <td>0.500000</td>\n",
              "      <td>0.136364</td>\n",
              "      <td>Positive</td>\n",
              "    </tr>\n",
              "    <tr>\n",
              "      <th>...</th>\n",
              "      <td>...</td>\n",
              "      <td>...</td>\n",
              "      <td>...</td>\n",
              "      <td>...</td>\n",
              "      <td>...</td>\n",
              "    </tr>\n",
              "    <tr>\n",
              "      <th>490</th>\n",
              "      <td>2022-01-28</td>\n",
              "      <td>The Witty Anxiety of Raquel Curtin</td>\n",
              "      <td>1.000000</td>\n",
              "      <td>0.500000</td>\n",
              "      <td>Positive</td>\n",
              "    </tr>\n",
              "    <tr>\n",
              "      <th>491</th>\n",
              "      <td>2022-01-28</td>\n",
              "      <td>91 of abortions are performed around 10 13 wee...</td>\n",
              "      <td>0.362500</td>\n",
              "      <td>0.137500</td>\n",
              "      <td>Positive</td>\n",
              "    </tr>\n",
              "    <tr>\n",
              "      <th>492</th>\n",
              "      <td>2022-01-28</td>\n",
              "      <td>Well Done Curtin University W A Amazing</td>\n",
              "      <td>0.900000</td>\n",
              "      <td>0.600000</td>\n",
              "      <td>Positive</td>\n",
              "    </tr>\n",
              "    <tr>\n",
              "      <th>493</th>\n",
              "      <td>2022-01-28</td>\n",
              "      <td>I don t have free will but I am responsible Yo...</td>\n",
              "      <td>0.583333</td>\n",
              "      <td>0.183333</td>\n",
              "      <td>Positive</td>\n",
              "    </tr>\n",
              "    <tr>\n",
              "      <th>499</th>\n",
              "      <td>2022-01-28</td>\n",
              "      <td>Curtin University and STEM educator STEMSmart ...</td>\n",
              "      <td>0.404167</td>\n",
              "      <td>0.183333</td>\n",
              "      <td>Positive</td>\n",
              "    </tr>\n",
              "  </tbody>\n",
              "</table>\n",
              "<p>227 rows × 5 columns</p>\n",
              "</div>\n",
              "      <button class=\"colab-df-convert\" onclick=\"convertToInteractive('df-3ccd7647-afeb-4a61-a960-0685a796f913')\"\n",
              "              title=\"Convert this dataframe to an interactive table.\"\n",
              "              style=\"display:none;\">\n",
              "        \n",
              "  <svg xmlns=\"http://www.w3.org/2000/svg\" height=\"24px\"viewBox=\"0 0 24 24\"\n",
              "       width=\"24px\">\n",
              "    <path d=\"M0 0h24v24H0V0z\" fill=\"none\"/>\n",
              "    <path d=\"M18.56 5.44l.94 2.06.94-2.06 2.06-.94-2.06-.94-.94-2.06-.94 2.06-2.06.94zm-11 1L8.5 8.5l.94-2.06 2.06-.94-2.06-.94L8.5 2.5l-.94 2.06-2.06.94zm10 10l.94 2.06.94-2.06 2.06-.94-2.06-.94-.94-2.06-.94 2.06-2.06.94z\"/><path d=\"M17.41 7.96l-1.37-1.37c-.4-.4-.92-.59-1.43-.59-.52 0-1.04.2-1.43.59L10.3 9.45l-7.72 7.72c-.78.78-.78 2.05 0 2.83L4 21.41c.39.39.9.59 1.41.59.51 0 1.02-.2 1.41-.59l7.78-7.78 2.81-2.81c.8-.78.8-2.07 0-2.86zM5.41 20L4 18.59l7.72-7.72 1.47 1.35L5.41 20z\"/>\n",
              "  </svg>\n",
              "      </button>\n",
              "      \n",
              "  <style>\n",
              "    .colab-df-container {\n",
              "      display:flex;\n",
              "      flex-wrap:wrap;\n",
              "      gap: 12px;\n",
              "    }\n",
              "\n",
              "    .colab-df-convert {\n",
              "      background-color: #E8F0FE;\n",
              "      border: none;\n",
              "      border-radius: 50%;\n",
              "      cursor: pointer;\n",
              "      display: none;\n",
              "      fill: #1967D2;\n",
              "      height: 32px;\n",
              "      padding: 0 0 0 0;\n",
              "      width: 32px;\n",
              "    }\n",
              "\n",
              "    .colab-df-convert:hover {\n",
              "      background-color: #E2EBFA;\n",
              "      box-shadow: 0px 1px 2px rgba(60, 64, 67, 0.3), 0px 1px 3px 1px rgba(60, 64, 67, 0.15);\n",
              "      fill: #174EA6;\n",
              "    }\n",
              "\n",
              "    [theme=dark] .colab-df-convert {\n",
              "      background-color: #3B4455;\n",
              "      fill: #D2E3FC;\n",
              "    }\n",
              "\n",
              "    [theme=dark] .colab-df-convert:hover {\n",
              "      background-color: #434B5C;\n",
              "      box-shadow: 0px 1px 3px 1px rgba(0, 0, 0, 0.15);\n",
              "      filter: drop-shadow(0px 1px 2px rgba(0, 0, 0, 0.3));\n",
              "      fill: #FFFFFF;\n",
              "    }\n",
              "  </style>\n",
              "\n",
              "      <script>\n",
              "        const buttonEl =\n",
              "          document.querySelector('#df-3ccd7647-afeb-4a61-a960-0685a796f913 button.colab-df-convert');\n",
              "        buttonEl.style.display =\n",
              "          google.colab.kernel.accessAllowed ? 'block' : 'none';\n",
              "\n",
              "        async function convertToInteractive(key) {\n",
              "          const element = document.querySelector('#df-3ccd7647-afeb-4a61-a960-0685a796f913');\n",
              "          const dataTable =\n",
              "            await google.colab.kernel.invokeFunction('convertToInteractive',\n",
              "                                                     [key], {});\n",
              "          if (!dataTable) return;\n",
              "\n",
              "          const docLinkHtml = 'Like what you see? Visit the ' +\n",
              "            '<a target=\"_blank\" href=https://colab.research.google.com/notebooks/data_table.ipynb>data table notebook</a>'\n",
              "            + ' to learn more about interactive tables.';\n",
              "          element.innerHTML = '';\n",
              "          dataTable['output_type'] = 'display_data';\n",
              "          await google.colab.output.renderOutput(dataTable, element);\n",
              "          const docLink = document.createElement('div');\n",
              "          docLink.innerHTML = docLinkHtml;\n",
              "          element.appendChild(docLink);\n",
              "        }\n",
              "      </script>\n",
              "    </div>\n",
              "  </div>\n",
              "  "
            ]
          },
          "metadata": {},
          "execution_count": 35
        }
      ]
    },
    {
      "cell_type": "markdown",
      "source": [
        "### Write a function to calculate how many each day.  We will write a function because want to do this for negative and netural tweets."
      ],
      "metadata": {
        "id": "AL_2i4jB7cy-"
      }
    },
    {
      "cell_type": "code",
      "source": [
        "def num_tweets(df):\n",
        "    return df['Date'].value_counts().sort_index()\n"
      ],
      "metadata": {
        "id": "WK6y5w0w7Fu1"
      },
      "execution_count": 36,
      "outputs": []
    },
    {
      "cell_type": "code",
      "source": [
        "# positive tweets per day\n",
        "pos_per_day = num_tweets(pos)\n",
        "pos_per_day\n"
      ],
      "metadata": {
        "id": "dUgf-5w_jR9a",
        "colab": {
          "base_uri": "https://localhost:8080/"
        },
        "outputId": "2c54b56b-3e37-4add-8172-fb21fbf574b6"
      },
      "execution_count": 37,
      "outputs": [
        {
          "output_type": "execute_result",
          "data": {
            "text/plain": [
              "2022-01-28    98\n",
              "2022-01-29    74\n",
              "2022-01-30    55\n",
              "Name: Date, dtype: int64"
            ]
          },
          "metadata": {},
          "execution_count": 37
        }
      ]
    },
    {
      "cell_type": "code",
      "source": [
        "# Plot the positive tweets per day\n",
        "pos_per_day.plot()"
      ],
      "metadata": {
        "id": "olPfp_uW9c7k",
        "colab": {
          "base_uri": "https://localhost:8080/",
          "height": 286
        },
        "outputId": "5f943e0d-9a23-4796-d162-0a94ac57bcc2"
      },
      "execution_count": 38,
      "outputs": [
        {
          "output_type": "execute_result",
          "data": {
            "text/plain": [
              "<matplotlib.axes._subplots.AxesSubplot at 0x7f885b5fa850>"
            ]
          },
          "metadata": {},
          "execution_count": 38
        },
        {
          "output_type": "display_data",
          "data": {
            "text/plain": [
              "<Figure size 432x288 with 1 Axes>"
            ],
            "image/png": "[encoded data removed]"
          },
          "metadata": {
            "needs_background": "light"
          }
        }
      ]
    },
    {
      "cell_type": "code",
      "source": [
        "# Now repeat for negative\n",
        "# Lets get just the positive tweets\n",
        "neg = tweets_df[tweets_df['Sentiment'] == 'Negative']\n",
        "neg"
      ],
      "metadata": {
        "id": "0eZU0rEkpRjW",
        "colab": {
          "base_uri": "https://localhost:8080/",
          "height": 424
        },
        "outputId": "c85836f5-fc68-4842-ecd6-86bd3ae8b904"
      },
      "execution_count": 40,
      "outputs": [
        {
          "output_type": "execute_result",
          "data": {
            "text/plain": [
              "           Date                                         Clean Text  \\\n",
              "3    2022-01-30  mi What are you talking about McConnell s fear...   \n",
              "14   2022-01-30  ngl man the way they were overloading us on th...   \n",
              "30   2022-01-30  Let s hear it for our SENIORS Sunday will be t...   \n",
              "32   2022-01-30  Archie bunker Ottolini and jane curtin behind ...   \n",
              "42   2022-01-30  It s shocking to see the sweethearted local in...   \n",
              "..          ...                                                ...   \n",
              "467  2022-01-28  Team Morrison will have a hard time demonizing...   \n",
              "482  2022-01-28  Lang was a crook which is why he got the boot ...   \n",
              "486  2022-01-28  So we were standing there before the WOD show ...   \n",
              "489  2022-01-28  Am I the only one concerned about the emerging...   \n",
              "497  2022-01-28  Yes homicide is bad but I think you re actuall...   \n",
              "\n",
              "     Subjectivity  Polarity Sentiment  \n",
              "3        0.900000 -0.600000  Negative  \n",
              "14       0.400000 -0.400000  Negative  \n",
              "30       0.369231 -0.100000  Negative  \n",
              "32       0.433333 -0.033333  Negative  \n",
              "42       0.666667 -0.200000  Negative  \n",
              "..            ...       ...       ...  \n",
              "467      0.541667 -0.291667  Negative  \n",
              "482      0.625000 -0.150000  Negative  \n",
              "486      0.558929 -0.028571  Negative  \n",
              "489      1.000000 -0.300000  Negative  \n",
              "497      0.321230 -0.119048  Negative  \n",
              "\n",
              "[72 rows x 5 columns]"
            ],
            "text/html": [
              "\n",
              "  <div id=\"df-e4f5289a-010a-4554-8457-1ae5852dc5c6\">\n",
              "    <div class=\"colab-df-container\">\n",
              "      <div>\n",
              "<style scoped>\n",
              "    .dataframe tbody tr th:only-of-type {\n",
              "        vertical-align: middle;\n",
              "    }\n",
              "\n",
              "    .dataframe tbody tr th {\n",
              "        vertical-align: top;\n",
              "    }\n",
              "\n",
              "    .dataframe thead th {\n",
              "        text-align: right;\n",
              "    }\n",
              "</style>\n",
              "<table border=\"1\" class=\"dataframe\">\n",
              "  <thead>\n",
              "    <tr style=\"text-align: right;\">\n",
              "      <th></th>\n",
              "      <th>Date</th>\n",
              "      <th>Clean Text</th>\n",
              "      <th>Subjectivity</th>\n",
              "      <th>Polarity</th>\n",
              "      <th>Sentiment</th>\n",
              "    </tr>\n",
              "  </thead>\n",
              "  <tbody>\n",
              "    <tr>\n",
              "      <th>3</th>\n",
              "      <td>2022-01-30</td>\n",
              "      <td>mi What are you talking about McConnell s fear...</td>\n",
              "      <td>0.900000</td>\n",
              "      <td>-0.600000</td>\n",
              "      <td>Negative</td>\n",
              "    </tr>\n",
              "    <tr>\n",
              "      <th>14</th>\n",
              "      <td>2022-01-30</td>\n",
              "      <td>ngl man the way they were overloading us on th...</td>\n",
              "      <td>0.400000</td>\n",
              "      <td>-0.400000</td>\n",
              "      <td>Negative</td>\n",
              "    </tr>\n",
              "    <tr>\n",
              "      <th>30</th>\n",
              "      <td>2022-01-30</td>\n",
              "      <td>Let s hear it for our SENIORS Sunday will be t...</td>\n",
              "      <td>0.369231</td>\n",
              "      <td>-0.100000</td>\n",
              "      <td>Negative</td>\n",
              "    </tr>\n",
              "    <tr>\n",
              "      <th>32</th>\n",
              "      <td>2022-01-30</td>\n",
              "      <td>Archie bunker Ottolini and jane curtin behind ...</td>\n",
              "      <td>0.433333</td>\n",
              "      <td>-0.033333</td>\n",
              "      <td>Negative</td>\n",
              "    </tr>\n",
              "    <tr>\n",
              "      <th>42</th>\n",
              "      <td>2022-01-30</td>\n",
              "      <td>It s shocking to see the sweethearted local in...</td>\n",
              "      <td>0.666667</td>\n",
              "      <td>-0.200000</td>\n",
              "      <td>Negative</td>\n",
              "    </tr>\n",
              "    <tr>\n",
              "      <th>...</th>\n",
              "      <td>...</td>\n",
              "      <td>...</td>\n",
              "      <td>...</td>\n",
              "      <td>...</td>\n",
              "      <td>...</td>\n",
              "    </tr>\n",
              "    <tr>\n",
              "      <th>467</th>\n",
              "      <td>2022-01-28</td>\n",
              "      <td>Team Morrison will have a hard time demonizing...</td>\n",
              "      <td>0.541667</td>\n",
              "      <td>-0.291667</td>\n",
              "      <td>Negative</td>\n",
              "    </tr>\n",
              "    <tr>\n",
              "      <th>482</th>\n",
              "      <td>2022-01-28</td>\n",
              "      <td>Lang was a crook which is why he got the boot ...</td>\n",
              "      <td>0.625000</td>\n",
              "      <td>-0.150000</td>\n",
              "      <td>Negative</td>\n",
              "    </tr>\n",
              "    <tr>\n",
              "      <th>486</th>\n",
              "      <td>2022-01-28</td>\n",
              "      <td>So we were standing there before the WOD show ...</td>\n",
              "      <td>0.558929</td>\n",
              "      <td>-0.028571</td>\n",
              "      <td>Negative</td>\n",
              "    </tr>\n",
              "    <tr>\n",
              "      <th>489</th>\n",
              "      <td>2022-01-28</td>\n",
              "      <td>Am I the only one concerned about the emerging...</td>\n",
              "      <td>1.000000</td>\n",
              "      <td>-0.300000</td>\n",
              "      <td>Negative</td>\n",
              "    </tr>\n",
              "    <tr>\n",
              "      <th>497</th>\n",
              "      <td>2022-01-28</td>\n",
              "      <td>Yes homicide is bad but I think you re actuall...</td>\n",
              "      <td>0.321230</td>\n",
              "      <td>-0.119048</td>\n",
              "      <td>Negative</td>\n",
              "    </tr>\n",
              "  </tbody>\n",
              "</table>\n",
              "<p>72 rows × 5 columns</p>\n",
              "</div>\n",
              "      <button class=\"colab-df-convert\" onclick=\"convertToInteractive('df-e4f5289a-010a-4554-8457-1ae5852dc5c6')\"\n",
              "              title=\"Convert this dataframe to an interactive table.\"\n",
              "              style=\"display:none;\">\n",
              "        \n",
              "  <svg xmlns=\"http://www.w3.org/2000/svg\" height=\"24px\"viewBox=\"0 0 24 24\"\n",
              "       width=\"24px\">\n",
              "    <path d=\"M0 0h24v24H0V0z\" fill=\"none\"/>\n",
              "    <path d=\"M18.56 5.44l.94 2.06.94-2.06 2.06-.94-2.06-.94-.94-2.06-.94 2.06-2.06.94zm-11 1L8.5 8.5l.94-2.06 2.06-.94-2.06-.94L8.5 2.5l-.94 2.06-2.06.94zm10 10l.94 2.06.94-2.06 2.06-.94-2.06-.94-.94-2.06-.94 2.06-2.06.94z\"/><path d=\"M17.41 7.96l-1.37-1.37c-.4-.4-.92-.59-1.43-.59-.52 0-1.04.2-1.43.59L10.3 9.45l-7.72 7.72c-.78.78-.78 2.05 0 2.83L4 21.41c.39.39.9.59 1.41.59.51 0 1.02-.2 1.41-.59l7.78-7.78 2.81-2.81c.8-.78.8-2.07 0-2.86zM5.41 20L4 18.59l7.72-7.72 1.47 1.35L5.41 20z\"/>\n",
              "  </svg>\n",
              "      </button>\n",
              "      \n",
              "  <style>\n",
              "    .colab-df-container {\n",
              "      display:flex;\n",
              "      flex-wrap:wrap;\n",
              "      gap: 12px;\n",
              "    }\n",
              "\n",
              "    .colab-df-convert {\n",
              "      background-color: #E8F0FE;\n",
              "      border: none;\n",
              "      border-radius: 50%;\n",
              "      cursor: pointer;\n",
              "      display: none;\n",
              "      fill: #1967D2;\n",
              "      height: 32px;\n",
              "      padding: 0 0 0 0;\n",
              "      width: 32px;\n",
              "    }\n",
              "\n",
              "    .colab-df-convert:hover {\n",
              "      background-color: #E2EBFA;\n",
              "      box-shadow: 0px 1px 2px rgba(60, 64, 67, 0.3), 0px 1px 3px 1px rgba(60, 64, 67, 0.15);\n",
              "      fill: #174EA6;\n",
              "    }\n",
              "\n",
              "    [theme=dark] .colab-df-convert {\n",
              "      background-color: #3B4455;\n",
              "      fill: #D2E3FC;\n",
              "    }\n",
              "\n",
              "    [theme=dark] .colab-df-convert:hover {\n",
              "      background-color: #434B5C;\n",
              "      box-shadow: 0px 1px 3px 1px rgba(0, 0, 0, 0.15);\n",
              "      filter: drop-shadow(0px 1px 2px rgba(0, 0, 0, 0.3));\n",
              "      fill: #FFFFFF;\n",
              "    }\n",
              "  </style>\n",
              "\n",
              "      <script>\n",
              "        const buttonEl =\n",
              "          document.querySelector('#df-e4f5289a-010a-4554-8457-1ae5852dc5c6 button.colab-df-convert');\n",
              "        buttonEl.style.display =\n",
              "          google.colab.kernel.accessAllowed ? 'block' : 'none';\n",
              "\n",
              "        async function convertToInteractive(key) {\n",
              "          const element = document.querySelector('#df-e4f5289a-010a-4554-8457-1ae5852dc5c6');\n",
              "          const dataTable =\n",
              "            await google.colab.kernel.invokeFunction('convertToInteractive',\n",
              "                                                     [key], {});\n",
              "          if (!dataTable) return;\n",
              "\n",
              "          const docLinkHtml = 'Like what you see? Visit the ' +\n",
              "            '<a target=\"_blank\" href=https://colab.research.google.com/notebooks/data_table.ipynb>data table notebook</a>'\n",
              "            + ' to learn more about interactive tables.';\n",
              "          element.innerHTML = '';\n",
              "          dataTable['output_type'] = 'display_data';\n",
              "          await google.colab.output.renderOutput(dataTable, element);\n",
              "          const docLink = document.createElement('div');\n",
              "          docLink.innerHTML = docLinkHtml;\n",
              "          element.appendChild(docLink);\n",
              "        }\n",
              "      </script>\n",
              "    </div>\n",
              "  </div>\n",
              "  "
            ]
          },
          "metadata": {},
          "execution_count": 40
        }
      ]
    },
    {
      "cell_type": "code",
      "source": [
        "# negative tweets per day\n",
        "neg_per_day = num_tweets(neg)\n",
        "neg_per_day"
      ],
      "metadata": {
        "id": "tsrM30faMgDa",
        "outputId": "ffceaa1c-4985-4b69-fb8e-52d35b2d34c6",
        "colab": {
          "base_uri": "https://localhost:8080/"
        }
      },
      "execution_count": 41,
      "outputs": [
        {
          "output_type": "execute_result",
          "data": {
            "text/plain": [
              "2022-01-28    33\n",
              "2022-01-29    21\n",
              "2022-01-30    18\n",
              "Name: Date, dtype: int64"
            ]
          },
          "metadata": {},
          "execution_count": 41
        }
      ]
    },
    {
      "cell_type": "code",
      "source": [
        "# Plot the negative tweets per day\n",
        "neg_per_day.plot()\n"
      ],
      "metadata": {
        "id": "BFjpBosxMvXW",
        "outputId": "951468c2-ab56-4ac0-ddd8-cc0006ad3592",
        "colab": {
          "base_uri": "https://localhost:8080/",
          "height": 282
        }
      },
      "execution_count": 42,
      "outputs": [
        {
          "output_type": "execute_result",
          "data": {
            "text/plain": [
              "<matplotlib.axes._subplots.AxesSubplot at 0x7f885b5cf5d0>"
            ]
          },
          "metadata": {},
          "execution_count": 42
        },
        {
          "output_type": "display_data",
          "data": {
            "text/plain": [
              "<Figure size 432x288 with 1 Axes>"
            ],
            "image/png": "[encoded data removed]"
          },
          "metadata": {
            "needs_background": "light"
          }
        }
      ]
    },
    {
      "cell_type": "code",
      "source": [
        "# repeat for neutral\n",
        "# Lets get just the neutral tweets\n",
        "neu = tweets_df[tweets_df['Sentiment'] == 'Neutral']\n",
        "neu"
      ],
      "metadata": {
        "id": "0VuqzSOmpSzc",
        "colab": {
          "base_uri": "https://localhost:8080/",
          "height": 424
        },
        "outputId": "79c10b3d-7d54-4285-ec24-36fb9c4c7d11"
      },
      "execution_count": 43,
      "outputs": [
        {
          "output_type": "execute_result",
          "data": {
            "text/plain": [
              "           Date                                         Clean Text  \\\n",
              "0    2022-01-30   I dont think he would take it yet but Jim Curtin   \n",
              "2    2022-01-30  Meanwell curtin You did tweet the work on the ...   \n",
              "5    2022-01-30  Rooting for DGD Mathew Stafford tonight DawgsI...   \n",
              "8    2022-01-30                                  escrota do caraio   \n",
              "10   2022-01-30          When did Dan Aykroyd amp Jane Curtin pass   \n",
              "..          ...                                                ...   \n",
              "487  2022-01-28  curtin Abortion is homicide It s just got a di...   \n",
              "494  2022-01-28  Lori and Jim Curtin sighting at war on drugs s...   \n",
              "495  2022-01-28                ter um cabelo curtin eu fico tchola   \n",
              "496  2022-01-28  Am I the only one who immediately hears Hoyt C...   \n",
              "498  2022-01-28                          Capital Chemist Curtin 65   \n",
              "\n",
              "     Subjectivity  Polarity Sentiment  \n",
              "0             0.0       0.0   Neutral  \n",
              "2             0.0       0.0   Neutral  \n",
              "5             0.0       0.0   Neutral  \n",
              "8             0.0       0.0   Neutral  \n",
              "10            0.0       0.0   Neutral  \n",
              "..            ...       ...       ...  \n",
              "487           0.6       0.0   Neutral  \n",
              "494           0.0       0.0   Neutral  \n",
              "495           0.0       0.0   Neutral  \n",
              "496           1.0       0.0   Neutral  \n",
              "498           0.0       0.0   Neutral  \n",
              "\n",
              "[201 rows x 5 columns]"
            ],
            "text/html": [
              "\n",
              "  <div id=\"df-3c95c8e0-11b6-41a6-8cb8-935dd3e52361\">\n",
              "    <div class=\"colab-df-container\">\n",
              "      <div>\n",
              "<style scoped>\n",
              "    .dataframe tbody tr th:only-of-type {\n",
              "        vertical-align: middle;\n",
              "    }\n",
              "\n",
              "    .dataframe tbody tr th {\n",
              "        vertical-align: top;\n",
              "    }\n",
              "\n",
              "    .dataframe thead th {\n",
              "        text-align: right;\n",
              "    }\n",
              "</style>\n",
              "<table border=\"1\" class=\"dataframe\">\n",
              "  <thead>\n",
              "    <tr style=\"text-align: right;\">\n",
              "      <th></th>\n",
              "      <th>Date</th>\n",
              "      <th>Clean Text</th>\n",
              "      <th>Subjectivity</th>\n",
              "      <th>Polarity</th>\n",
              "      <th>Sentiment</th>\n",
              "    </tr>\n",
              "  </thead>\n",
              "  <tbody>\n",
              "    <tr>\n",
              "      <th>0</th>\n",
              "      <td>2022-01-30</td>\n",
              "      <td>I dont think he would take it yet but Jim Curtin</td>\n",
              "      <td>0.0</td>\n",
              "      <td>0.0</td>\n",
              "      <td>Neutral</td>\n",
              "    </tr>\n",
              "    <tr>\n",
              "      <th>2</th>\n",
              "      <td>2022-01-30</td>\n",
              "      <td>Meanwell curtin You did tweet the work on the ...</td>\n",
              "      <td>0.0</td>\n",
              "      <td>0.0</td>\n",
              "      <td>Neutral</td>\n",
              "    </tr>\n",
              "    <tr>\n",
              "      <th>5</th>\n",
              "      <td>2022-01-30</td>\n",
              "      <td>Rooting for DGD Mathew Stafford tonight DawgsI...</td>\n",
              "      <td>0.0</td>\n",
              "      <td>0.0</td>\n",
              "      <td>Neutral</td>\n",
              "    </tr>\n",
              "    <tr>\n",
              "      <th>8</th>\n",
              "      <td>2022-01-30</td>\n",
              "      <td>escrota do caraio</td>\n",
              "      <td>0.0</td>\n",
              "      <td>0.0</td>\n",
              "      <td>Neutral</td>\n",
              "    </tr>\n",
              "    <tr>\n",
              "      <th>10</th>\n",
              "      <td>2022-01-30</td>\n",
              "      <td>When did Dan Aykroyd amp Jane Curtin pass</td>\n",
              "      <td>0.0</td>\n",
              "      <td>0.0</td>\n",
              "      <td>Neutral</td>\n",
              "    </tr>\n",
              "    <tr>\n",
              "      <th>...</th>\n",
              "      <td>...</td>\n",
              "      <td>...</td>\n",
              "      <td>...</td>\n",
              "      <td>...</td>\n",
              "      <td>...</td>\n",
              "    </tr>\n",
              "    <tr>\n",
              "      <th>487</th>\n",
              "      <td>2022-01-28</td>\n",
              "      <td>curtin Abortion is homicide It s just got a di...</td>\n",
              "      <td>0.6</td>\n",
              "      <td>0.0</td>\n",
              "      <td>Neutral</td>\n",
              "    </tr>\n",
              "    <tr>\n",
              "      <th>494</th>\n",
              "      <td>2022-01-28</td>\n",
              "      <td>Lori and Jim Curtin sighting at war on drugs s...</td>\n",
              "      <td>0.0</td>\n",
              "      <td>0.0</td>\n",
              "      <td>Neutral</td>\n",
              "    </tr>\n",
              "    <tr>\n",
              "      <th>495</th>\n",
              "      <td>2022-01-28</td>\n",
              "      <td>ter um cabelo curtin eu fico tchola</td>\n",
              "      <td>0.0</td>\n",
              "      <td>0.0</td>\n",
              "      <td>Neutral</td>\n",
              "    </tr>\n",
              "    <tr>\n",
              "      <th>496</th>\n",
              "      <td>2022-01-28</td>\n",
              "      <td>Am I the only one who immediately hears Hoyt C...</td>\n",
              "      <td>1.0</td>\n",
              "      <td>0.0</td>\n",
              "      <td>Neutral</td>\n",
              "    </tr>\n",
              "    <tr>\n",
              "      <th>498</th>\n",
              "      <td>2022-01-28</td>\n",
              "      <td>Capital Chemist Curtin 65</td>\n",
              "      <td>0.0</td>\n",
              "      <td>0.0</td>\n",
              "      <td>Neutral</td>\n",
              "    </tr>\n",
              "  </tbody>\n",
              "</table>\n",
              "<p>201 rows × 5 columns</p>\n",
              "</div>\n",
              "      <button class=\"colab-df-convert\" onclick=\"convertToInteractive('df-3c95c8e0-11b6-41a6-8cb8-935dd3e52361')\"\n",
              "              title=\"Convert this dataframe to an interactive table.\"\n",
              "              style=\"display:none;\">\n",
              "        \n",
              "  <svg xmlns=\"http://www.w3.org/2000/svg\" height=\"24px\"viewBox=\"0 0 24 24\"\n",
              "       width=\"24px\">\n",
              "    <path d=\"M0 0h24v24H0V0z\" fill=\"none\"/>\n",
              "    <path d=\"M18.56 5.44l.94 2.06.94-2.06 2.06-.94-2.06-.94-.94-2.06-.94 2.06-2.06.94zm-11 1L8.5 8.5l.94-2.06 2.06-.94-2.06-.94L8.5 2.5l-.94 2.06-2.06.94zm10 10l.94 2.06.94-2.06 2.06-.94-2.06-.94-.94-2.06-.94 2.06-2.06.94z\"/><path d=\"M17.41 7.96l-1.37-1.37c-.4-.4-.92-.59-1.43-.59-.52 0-1.04.2-1.43.59L10.3 9.45l-7.72 7.72c-.78.78-.78 2.05 0 2.83L4 21.41c.39.39.9.59 1.41.59.51 0 1.02-.2 1.41-.59l7.78-7.78 2.81-2.81c.8-.78.8-2.07 0-2.86zM5.41 20L4 18.59l7.72-7.72 1.47 1.35L5.41 20z\"/>\n",
              "  </svg>\n",
              "      </button>\n",
              "      \n",
              "  <style>\n",
              "    .colab-df-container {\n",
              "      display:flex;\n",
              "      flex-wrap:wrap;\n",
              "      gap: 12px;\n",
              "    }\n",
              "\n",
              "    .colab-df-convert {\n",
              "      background-color: #E8F0FE;\n",
              "      border: none;\n",
              "      border-radius: 50%;\n",
              "      cursor: pointer;\n",
              "      display: none;\n",
              "      fill: #1967D2;\n",
              "      height: 32px;\n",
              "      padding: 0 0 0 0;\n",
              "      width: 32px;\n",
              "    }\n",
              "\n",
              "    .colab-df-convert:hover {\n",
              "      background-color: #E2EBFA;\n",
              "      box-shadow: 0px 1px 2px rgba(60, 64, 67, 0.3), 0px 1px 3px 1px rgba(60, 64, 67, 0.15);\n",
              "      fill: #174EA6;\n",
              "    }\n",
              "\n",
              "    [theme=dark] .colab-df-convert {\n",
              "      background-color: #3B4455;\n",
              "      fill: #D2E3FC;\n",
              "    }\n",
              "\n",
              "    [theme=dark] .colab-df-convert:hover {\n",
              "      background-color: #434B5C;\n",
              "      box-shadow: 0px 1px 3px 1px rgba(0, 0, 0, 0.15);\n",
              "      filter: drop-shadow(0px 1px 2px rgba(0, 0, 0, 0.3));\n",
              "      fill: #FFFFFF;\n",
              "    }\n",
              "  </style>\n",
              "\n",
              "      <script>\n",
              "        const buttonEl =\n",
              "          document.querySelector('#df-3c95c8e0-11b6-41a6-8cb8-935dd3e52361 button.colab-df-convert');\n",
              "        buttonEl.style.display =\n",
              "          google.colab.kernel.accessAllowed ? 'block' : 'none';\n",
              "\n",
              "        async function convertToInteractive(key) {\n",
              "          const element = document.querySelector('#df-3c95c8e0-11b6-41a6-8cb8-935dd3e52361');\n",
              "          const dataTable =\n",
              "            await google.colab.kernel.invokeFunction('convertToInteractive',\n",
              "                                                     [key], {});\n",
              "          if (!dataTable) return;\n",
              "\n",
              "          const docLinkHtml = 'Like what you see? Visit the ' +\n",
              "            '<a target=\"_blank\" href=https://colab.research.google.com/notebooks/data_table.ipynb>data table notebook</a>'\n",
              "            + ' to learn more about interactive tables.';\n",
              "          element.innerHTML = '';\n",
              "          dataTable['output_type'] = 'display_data';\n",
              "          await google.colab.output.renderOutput(dataTable, element);\n",
              "          const docLink = document.createElement('div');\n",
              "          docLink.innerHTML = docLinkHtml;\n",
              "          element.appendChild(docLink);\n",
              "        }\n",
              "      </script>\n",
              "    </div>\n",
              "  </div>\n",
              "  "
            ]
          },
          "metadata": {},
          "execution_count": 43
        }
      ]
    },
    {
      "cell_type": "code",
      "source": [
        "# neutral tweets per day\n",
        "neu_per_day = num_tweets(neu)\n",
        "neu_per_day"
      ],
      "metadata": {
        "id": "I87k-oiyNAIp",
        "outputId": "191aa40b-e70c-4d1a-d2f5-3f80e07a6a29",
        "colab": {
          "base_uri": "https://localhost:8080/"
        }
      },
      "execution_count": 44,
      "outputs": [
        {
          "output_type": "execute_result",
          "data": {
            "text/plain": [
              "2022-01-28    73\n",
              "2022-01-29    71\n",
              "2022-01-30    57\n",
              "Name: Date, dtype: int64"
            ]
          },
          "metadata": {},
          "execution_count": 44
        }
      ]
    },
    {
      "cell_type": "code",
      "source": [
        "# Plot the neutral tweets per day\n",
        "neu_per_day.plot()\n"
      ],
      "metadata": {
        "id": "m17KCYatNEf3",
        "outputId": "aa7f9829-b1ca-4937-eac9-f515289fb04e",
        "colab": {
          "base_uri": "https://localhost:8080/",
          "height": 282
        }
      },
      "execution_count": 45,
      "outputs": [
        {
          "output_type": "execute_result",
          "data": {
            "text/plain": [
              "<matplotlib.axes._subplots.AxesSubplot at 0x7f885b4d9a50>"
            ]
          },
          "metadata": {},
          "execution_count": 45
        },
        {
          "output_type": "display_data",
          "data": {
            "text/plain": [
              "<Figure size 432x288 with 1 Axes>"
            ],
            "image/png": "[encoded data removed]"
          },
          "metadata": {
            "needs_background": "light"
          }
        }
      ]
    },
    {
      "cell_type": "markdown",
      "source": [
        "### Next, we will display the number of positive, negative, or neutral tweets we have and also produce a percentage of each.\n"
      ],
      "metadata": {
        "id": "_cPo3_fthH1Q"
      }
    },
    {
      "cell_type": "code",
      "source": [
        "tweets_df.shape[0]"
      ],
      "metadata": {
        "id": "P43Brm5gg_99",
        "colab": {
          "base_uri": "https://localhost:8080/"
        },
        "outputId": "8e8d6cd4-98a5-42e9-ef60-dd5d4880713d"
      },
      "execution_count": 48,
      "outputs": [
        {
          "output_type": "execute_result",
          "data": {
            "text/plain": [
              "500"
            ]
          },
          "metadata": {},
          "execution_count": 48
        }
      ]
    },
    {
      "cell_type": "code",
      "source": [
        "# count the unique rows in the dataframe - returns the total number of rows\n",
        "tweets_df['Sentiment'].value_counts()"
      ],
      "metadata": {
        "id": "g0vWeJL9hSCe",
        "colab": {
          "base_uri": "https://localhost:8080/"
        },
        "outputId": "1f7989ed-1bcb-4155-9d79-93e4fbc2dc3b"
      },
      "execution_count": 55,
      "outputs": [
        {
          "output_type": "execute_result",
          "data": {
            "text/plain": [
              "Positive    227\n",
              "Neutral     201\n",
              "Negative     72\n",
              "Name: Sentiment, dtype: int64"
            ]
          },
          "metadata": {},
          "execution_count": 55
        }
      ]
    },
    {
      "cell_type": "code",
      "source": [
        "# Finding percentage of positive tweets\n",
        "postweets = tweets_df[tweets_df.Sentiment == 'Positive']\n",
        "postweets = postweets['Clean Text']\n",
        "\n",
        "#print(postweets)\n",
        "#print(postweets.shape)\n",
        "#print(tweets_df.shape)\n",
        "\n",
        "pos_percentage = round((postweets.shape[0]/tweets_df.shape[0]) * 100, 1)\n",
        "pos_percentage"
      ],
      "metadata": {
        "id": "VH4y7dtghZLs",
        "colab": {
          "base_uri": "https://localhost:8080/"
        },
        "outputId": "b2541ba7-02bc-4503-8616-83512628cb0a"
      },
      "execution_count": 51,
      "outputs": [
        {
          "output_type": "execute_result",
          "data": {
            "text/plain": [
              "45.4"
            ]
          },
          "metadata": {},
          "execution_count": 51
        }
      ]
    },
    {
      "cell_type": "code",
      "source": [
        "# Finding percentage of negative tweets\n",
        "postweets = tweets_df[tweets_df.Sentiment == 'Positive']\n",
        "postweets = postweets['Clean Text']\n",
        "\n",
        "#print(postweets)\n",
        "#print(postweets.shape)\n",
        "#print(tweets_df.shape)\n",
        "\n",
        "pos_percentage = round((postweets.shape[0]/tweets_df.shape[0]) * 100, 1)\n",
        "pos_percentage"
      ],
      "metadata": {
        "id": "-TEIg5qUhcvw",
        "colab": {
          "base_uri": "https://localhost:8080/"
        },
        "outputId": "2a851b6c-e473-4733-e095-2f75f866eb8f"
      },
      "execution_count": 52,
      "outputs": [
        {
          "output_type": "execute_result",
          "data": {
            "text/plain": [
              "14.4"
            ]
          },
          "metadata": {},
          "execution_count": 52
        }
      ]
    },
    {
      "cell_type": "code",
      "source": [
        "# Finding percentage of neutral tweets\n",
        "neutweets = tweets_df[tweets_df.Sentiment == 'Neutral']\n",
        "neutweets = neutweets['Clean Text']\n",
        "\n",
        "#print(neutweets)\n",
        "#print(neutweets.shape)\n",
        "#print(tweets_df.shape)\n",
        "\n",
        "neu_percentage = round((neutweets.shape[0]/tweets_df.shape[0]) * 100, 1)\n",
        "neu_percentage"
      ],
      "metadata": {
        "id": "c_-GRZiQhd6m",
        "colab": {
          "base_uri": "https://localhost:8080/"
        },
        "outputId": "b8802c72-1eed-43dc-c585-eb4c104af579"
      },
      "execution_count": 53,
      "outputs": [
        {
          "output_type": "execute_result",
          "data": {
            "text/plain": [
              "40.2"
            ]
          },
          "metadata": {},
          "execution_count": 53
        }
      ]
    },
    {
      "cell_type": "code",
      "source": [
        "# Creating a bar chart to visualise the count\n",
        "plt.title('Twitter Sentiment Analysis')\n",
        "plt.xlabel('Sentiment')\n",
        "plt.ylabel('count')\n",
        "tweets_df['Sentiment'].value_counts().plot(kind='bar')\n",
        "plt.show()"
      ],
      "metadata": {
        "id": "v2En-DtSiIB4",
        "colab": {
          "base_uri": "https://localhost:8080/",
          "height": 330
        },
        "outputId": "1400b3de-bf20-447f-b6f0-1ad7744cca58"
      },
      "execution_count": 54,
      "outputs": [
        {
          "output_type": "display_data",
          "data": {
            "text/plain": [
              "<Figure size 432x288 with 1 Axes>"
            ],
            "image/png": "[encoded data removed]"
          },
          "metadata": {
            "needs_background": "light"
          }
        }
      ]
    },
    {
      "cell_type": "markdown",
      "source": [
        "How about propotions of sentiment type?\n",
        "\n",
        "Visit Python Graph Gallery, 'Part of the Whole', select 'Pie' and loot at the example"
      ],
      "metadata": {
        "id": "4bztLqHFCWTM"
      }
    },
    {
      "cell_type": "code",
      "source": [
        "import matplotlib.pyplot as plt\n",
        "values = [len(pos),len(neg),len(neu)]\n",
        "plt.pie(values)"
      ],
      "metadata": {
        "id": "51tsIf80F3JG",
        "colab": {
          "base_uri": "https://localhost:8080/",
          "height": 352
        },
        "outputId": "ddc61351-94fb-4987-e577-a72b95ed9ea4"
      },
      "execution_count": 56,
      "outputs": [
        {
          "output_type": "execute_result",
          "data": {
            "text/plain": [
              "([<matplotlib.patches.Wedge at 0x7f885c2df2d0>,\n",
              "  <matplotlib.patches.Wedge at 0x7f885c2df610>,\n",
              "  <matplotlib.patches.Wedge at 0x7f885c2df6d0>],\n",
              " [Text(0.1584118738527104, 1.0885337285644727, ''),\n",
              "  Text(-1.0853545464006118, -0.17890083456351516, ''),\n",
              "  Text(0.333338763618726, -1.048277286155309, '')])"
            ]
          },
          "metadata": {},
          "execution_count": 56
        },
        {
          "output_type": "display_data",
          "data": {
            "text/plain": [
              "<Figure size 432x288 with 1 Axes>"
            ],
            "image/png": "[encoded data removed]"
          },
          "metadata": {}
        }
      ]
    },
    {
      "cell_type": "markdown",
      "source": [
        "We can do better. "
      ],
      "metadata": {
        "id": "tcG6FBvfGTLR"
      }
    },
    {
      "cell_type": "code",
      "source": [
        "import matplotlib.pyplot as plt\n",
        " \n",
        "values = [len(pos),len(neg),len(neu)]\n",
        "labels = ['Positive', 'Negative', 'Neutral']\n",
        "colors = ['b', 'g', 'r']\n",
        "plt.pie(values, colors=colors, labels= values,counterclock=False, shadow=True)\n",
        "plt.title('Sentiment Portions')\n",
        "plt.legend(labels,loc=3)\n",
        "plt.show()"
      ],
      "metadata": {
        "id": "ikSynD1LBiNC",
        "colab": {
          "base_uri": "https://localhost:8080/",
          "height": 264
        },
        "outputId": "fff71555-791d-4acf-aa15-f0c7fd9ad34e"
      },
      "execution_count": 57,
      "outputs": [
        {
          "output_type": "display_data",
          "data": {
            "text/plain": [
              "<Figure size 432x288 with 1 Axes>"
            ],
            "image/png": "[encoded data removed]"
          },
          "metadata": {}
        }
      ]
    },
    {
      "cell_type": "code",
      "source": [
        "import matplotlib.pyplot as plt\n",
        " \n",
        "values = [pos_percentage,neg_percentage,neu_percentage]\n",
        "labels = ['Positive', 'Negative', 'Neutral']\n",
        "colors = ['b', 'g', 'r']\n",
        "plt.pie(values, colors=colors, labels= values,counterclock=False, shadow=True)\n",
        "plt.title('Sentiment Portions Percentage')\n",
        "plt.legend(labels,loc=3)\n",
        "plt.show()"
      ],
      "metadata": {
        "id": "TKN_oQ7ObOPM",
        "colab": {
          "base_uri": "https://localhost:8080/",
          "height": 264
        },
        "outputId": "b6d2c795-3122-4dc2-cecb-6a86d79c3840"
      },
      "execution_count": 58,
      "outputs": [
        {
          "output_type": "display_data",
          "data": {
            "text/plain": [
              "<Figure size 432x288 with 1 Axes>"
            ],
            "image/png": "[encoded data removed]"
          },
          "metadata": {}
        }
      ]
    },
    {
      "cell_type": "markdown",
      "source": [
        "#3 WordCLoud\n",
        "\n",
        "Visit Python Graph Gallery, 'Ranking', select 'Word Cloud' and look at the example"
      ],
      "metadata": {
        "id": "0E2Y_VL34JC4"
      }
    },
    {
      "cell_type": "code",
      "source": [
        "# Libraries\n",
        "from wordcloud import WordCloud\n",
        "import matplotlib.pyplot as plt\n",
        "from stopwords import ENGLISH_STOP_WORDS\n",
        "\n",
        "# Get all the messages\n",
        "# Stores all the words in one string\n",
        "messages = ' '.join(tweets_df['Clean Text'])\n",
        "\n",
        "# Create the wordcloud object\n",
        "wordcloud = WordCloud(width=1480, height=1480, margin=0, stopwords=ENGLISH_STOP_WORDS, ).generate(messages)\n",
        "\n",
        "# Display the generated image:\n",
        "plt.figure(figsize = (6,6), facecolor = None)\n",
        "plt.imshow(wordcloud, interpolation='bilinear')\n",
        "plt.axis(\"off\")\n",
        "plt.margins(x=0, y=0)\n",
        "plt.show()"
      ],
      "metadata": {
        "id": "Np62L1GoD2cZ",
        "colab": {
          "base_uri": "https://localhost:8080/",
          "height": 357
        },
        "outputId": "3dfb4f68-777d-4a5a-d877-6a1fc31aec2e"
      },
      "execution_count": 59,
      "outputs": [
        {
          "output_type": "display_data",
          "data": {
            "text/plain": [
              "<Figure size 432x432 with 1 Axes>"
            ],
            "image/png": "[encoded data removed]"
          },
          "metadata": {
            "needs_background": "light"
          }
        }
      ]
    },
    {
      "cell_type": "code",
      "source": [],
      "metadata": {
        "id": "AIqUFxOBJwqz"
      },
      "execution_count": null,
      "outputs": []
    }
  ]
}